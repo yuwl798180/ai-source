{
 "cells": [
  {
   "cell_type": "code",
   "execution_count": 1,
   "metadata": {
    "pycharm": {
     "is_executing": false
    }
   },
   "outputs": [],
   "source": [
    "# 常使用二叉树，则每个节点有左右两个子节点\n",
    "# 先定义节点：Node类\n",
    "class Node(object):\n",
    "    def __init__(self, index):\n",
    "        self.index = index\n",
    "        self.left_child = None\n",
    "        self.right_child = None"
   ]
  },
  {
   "cell_type": "code",
   "execution_count": 2,
   "metadata": {
    "pycharm": {
     "is_executing": false
    }
   },
   "outputs": [],
   "source": [
    "# 二叉树 类\n",
    "class BinaryTree(object):\n",
    "    def __init__(self, root):\n",
    "        self.root = root\n",
    "        self.seq = []\n",
    "    \n",
    "    def init_seq(self):\n",
    "        self.seq = []\n",
    "    \n",
    "    # preorder-traversal\n",
    "    def pre_travel(self, node):\n",
    "        if not node:\n",
    "            return None\n",
    "        \n",
    "        self.seq.append(node.index)\n",
    "        self.pre_travel(node.left_child)\n",
    "        self.pre_travel(node.right_child)\n",
    "    \n",
    "    def mid_travel(self, node):\n",
    "        if not node:\n",
    "            return None\n",
    "        \n",
    "        self.mid_travel(node.left_child)\n",
    "        self.seq.append(node.index)\n",
    "        self.mid_travel(node.right_child)\n",
    "    \n",
    "    # postorder-travelsal  \n",
    "    def pos_travel(self, node):\n",
    "        if not node:\n",
    "            return None\n",
    "        \n",
    "        self.pos_travel(node.left_child)\n",
    "        self.pos_travel(node.right_child)\n",
    "        self.seq.append(node.index)"
   ]
  },
  {
   "cell_type": "code",
   "execution_count": 3,
   "metadata": {
    "pycharm": {
     "is_executing": false
    }
   },
   "outputs": [],
   "source": [
    "# example\n",
    "node_dict = {}\n",
    "for i in range(1, 10):\n",
    "    node_dict[i] = Node(i)\n",
    "node_dict[1].left_child = node_dict[2]\n",
    "node_dict[1].right_child = node_dict[3]\n",
    "node_dict[2].left_child = node_dict[5]\n",
    "node_dict[2].right_child = node_dict[6]\n",
    "node_dict[3].left_child = node_dict[7]\n",
    "node_dict[7].left_child = node_dict[8]\n",
    "node_dict[7].right_child = node_dict[9]\n",
    "\n",
    "tree = BinaryTree(node_dict[1])"
   ]
  },
  {
   "cell_type": "code",
   "execution_count": 4,
   "metadata": {
    "pycharm": {
     "is_executing": false
    }
   },
   "outputs": [
    {
     "name": "stdout",
     "text": [
      "前序遍历：[1, 2, 5, 6, 3, 7, 8, 9]\n"
     ],
     "output_type": "stream"
    }
   ],
   "source": [
    "# 前序遍历\n",
    "tree.pre_travel(tree.root)\n",
    "print(f'前序遍历：{tree.seq}')"
   ]
  },
  {
   "cell_type": "code",
   "execution_count": 5,
   "metadata": {
    "pycharm": {
     "is_executing": false
    }
   },
   "outputs": [
    {
     "name": "stdout",
     "text": [
      "中序遍历：[5, 2, 6, 1, 8, 7, 9, 3]\n"
     ],
     "output_type": "stream"
    }
   ],
   "source": [
    "# 中序遍历\n",
    "tree.init_seq()\n",
    "tree.mid_travel(tree.root)\n",
    "print(f'中序遍历：{tree.seq}')"
   ]
  },
  {
   "cell_type": "code",
   "execution_count": 6,
   "metadata": {
    "pycharm": {
     "is_executing": false
    }
   },
   "outputs": [
    {
     "name": "stdout",
     "text": [
      "后序遍历：[5, 6, 2, 8, 9, 7, 3, 1]\n"
     ],
     "output_type": "stream"
    }
   ],
   "source": [
    "# 后序遍历\n",
    "tree.init_seq()\n",
    "tree.sub_travel(tree.root)\n",
    "print(f'后序遍历：{tree.seq}')"
   ]
  },
  {
   "cell_type": "code",
   "execution_count": 6,
   "metadata": {
    "pycharm": {
     "is_executing": false
    }
   },
   "outputs": [],
   "source": []
  }
 ],
 "metadata": {
  "kernelspec": {
   "display_name": "Python 3",
   "language": "python",
   "name": "python3"
  },
  "language_info": {
   "codemirror_mode": {
    "name": "ipython",
    "version": 3
   },
   "file_extension": ".py",
   "mimetype": "text/x-python",
   "name": "python",
   "nbconvert_exporter": "python",
   "pygments_lexer": "ipython3",
   "version": "3.7.3"
  },
  "pycharm": {
   "stem_cell": {
    "cell_type": "raw",
    "source": [],
    "metadata": {
     "collapsed": false
    }
   }
  }
 },
 "nbformat": 4,
 "nbformat_minor": 1
}